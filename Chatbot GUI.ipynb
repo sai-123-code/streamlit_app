{
 "cells": [
  {
   "cell_type": "markdown",
   "id": "32c65793",
   "metadata": {},
   "source": [
    "# GUI using Tkinter"
   ]
  },
  {
   "cell_type": "code",
   "execution_count": 1,
   "id": "4f30b525",
   "metadata": {},
   "outputs": [
    {
     "name": "stdout",
     "output_type": "stream",
     "text": [
      "3.9.7\n"
     ]
    }
   ],
   "source": [
    "from platform import python_version\n",
    "print(python_version())"
   ]
  },
  {
   "cell_type": "code",
   "execution_count": 1,
   "id": "212bb23c",
   "metadata": {},
   "outputs": [],
   "source": [
    "# pip install -r requirements.txt"
   ]
  },
  {
   "cell_type": "code",
   "execution_count": 2,
   "id": "b4d6c5d1",
   "metadata": {},
   "outputs": [
    {
     "name": "stdout",
     "output_type": "stream",
     "text": [
      "Requirement already satisfied: sentence-transformers==2.2.2 in c:\\users\\garlapati.varun\\anaconda3\\lib\\site-packages (2.2.2)\n",
      "Requirement already satisfied: numpy in c:\\users\\garlapati.varun\\anaconda3\\lib\\site-packages (from sentence-transformers==2.2.2) (1.22.4)\n",
      "Requirement already satisfied: nltk in c:\\users\\garlapati.varun\\anaconda3\\lib\\site-packages (from sentence-transformers==2.2.2) (3.6.5)\n",
      "Requirement already satisfied: tqdm in c:\\users\\garlapati.varun\\anaconda3\\lib\\site-packages (from sentence-transformers==2.2.2) (4.62.3)\n",
      "Requirement already satisfied: huggingface-hub>=0.4.0 in c:\\users\\garlapati.varun\\anaconda3\\lib\\site-packages (from sentence-transformers==2.2.2) (0.11.1)\n",
      "Requirement already satisfied: sentencepiece in c:\\users\\garlapati.varun\\anaconda3\\lib\\site-packages (from sentence-transformers==2.2.2) (0.1.95)\n",
      "Requirement already satisfied: scikit-learn in c:\\users\\garlapati.varun\\anaconda3\\lib\\site-packages (from sentence-transformers==2.2.2) (1.0.2)\n",
      "Requirement already satisfied: torch>=1.6.0 in c:\\users\\garlapati.varun\\anaconda3\\lib\\site-packages (from sentence-transformers==2.2.2) (1.11.0)\n",
      "Requirement already satisfied: scipy in c:\\users\\garlapati.varun\\anaconda3\\lib\\site-packages (from sentence-transformers==2.2.2) (1.7.1)\n",
      "Requirement already satisfied: torchvision in c:\\users\\garlapati.varun\\anaconda3\\lib\\site-packages (from sentence-transformers==2.2.2) (0.12.0)\n",
      "Requirement already satisfied: transformers<5.0.0,>=4.6.0 in c:\\users\\garlapati.varun\\anaconda3\\lib\\site-packages (from sentence-transformers==2.2.2) (4.25.1)\n",
      "Requirement already satisfied: packaging>=20.9 in c:\\users\\garlapati.varun\\anaconda3\\lib\\site-packages (from huggingface-hub>=0.4.0->sentence-transformers==2.2.2) (21.0)\n",
      "Requirement already satisfied: requests in c:\\users\\garlapati.varun\\anaconda3\\lib\\site-packages (from huggingface-hub>=0.4.0->sentence-transformers==2.2.2) (2.26.0)\n",
      "Requirement already satisfied: pyyaml>=5.1 in c:\\users\\garlapati.varun\\anaconda3\\lib\\site-packages (from huggingface-hub>=0.4.0->sentence-transformers==2.2.2) (6.0)\n",
      "Requirement already satisfied: typing-extensions>=3.7.4.3 in c:\\users\\garlapati.varun\\anaconda3\\lib\\site-packages (from huggingface-hub>=0.4.0->sentence-transformers==2.2.2) (3.10.0.2)\n",
      "Requirement already satisfied: filelock in c:\\users\\garlapati.varun\\anaconda3\\lib\\site-packages (from huggingface-hub>=0.4.0->sentence-transformers==2.2.2) (3.3.1)\n",
      "Requirement already satisfied: pyparsing>=2.0.2 in c:\\users\\garlapati.varun\\anaconda3\\lib\\site-packages (from packaging>=20.9->huggingface-hub>=0.4.0->sentence-transformers==2.2.2) (3.0.4)\n",
      "Requirement already satisfied: regex!=2019.12.17 in c:\\users\\garlapati.varun\\anaconda3\\lib\\site-packages (from transformers<5.0.0,>=4.6.0->sentence-transformers==2.2.2) (2021.8.3)\n",
      "Requirement already satisfied: tokenizers!=0.11.3,<0.14,>=0.11.1 in c:\\users\\garlapati.varun\\anaconda3\\lib\\site-packages (from transformers<5.0.0,>=4.6.0->sentence-transformers==2.2.2) (0.13.2)\n",
      "Requirement already satisfied: colorama in c:\\users\\garlapati.varun\\anaconda3\\lib\\site-packages (from tqdm->sentence-transformers==2.2.2) (0.4.4)\n",
      "Requirement already satisfied: click in c:\\users\\garlapati.varun\\anaconda3\\lib\\site-packages (from nltk->sentence-transformers==2.2.2) (8.0.3)\n",
      "Requirement already satisfied: joblib in c:\\users\\garlapati.varun\\anaconda3\\lib\\site-packages (from nltk->sentence-transformers==2.2.2) (1.1.0)\n",
      "Requirement already satisfied: charset-normalizer~=2.0.0 in c:\\users\\garlapati.varun\\anaconda3\\lib\\site-packages (from requests->huggingface-hub>=0.4.0->sentence-transformers==2.2.2) (2.0.4)\n",
      "Requirement already satisfied: idna<4,>=2.5 in c:\\users\\garlapati.varun\\anaconda3\\lib\\site-packages (from requests->huggingface-hub>=0.4.0->sentence-transformers==2.2.2) (3.2)\n",
      "Requirement already satisfied: urllib3<1.27,>=1.21.1 in c:\\users\\garlapati.varun\\anaconda3\\lib\\site-packages (from requests->huggingface-hub>=0.4.0->sentence-transformers==2.2.2) (1.25.11)\n",
      "Requirement already satisfied: certifi>=2017.4.17 in c:\\users\\garlapati.varun\\anaconda3\\lib\\site-packages (from requests->huggingface-hub>=0.4.0->sentence-transformers==2.2.2) (2021.10.8)\n",
      "Requirement already satisfied: threadpoolctl>=2.0.0 in c:\\users\\garlapati.varun\\anaconda3\\lib\\site-packages (from scikit-learn->sentence-transformers==2.2.2) (2.2.0)\n",
      "Requirement already satisfied: pillow!=8.3.*,>=5.3.0 in c:\\users\\garlapati.varun\\anaconda3\\lib\\site-packages (from torchvision->sentence-transformers==2.2.2) (8.4.0)\n",
      "Note: you may need to restart the kernel to use updated packages.\n"
     ]
    }
   ],
   "source": [
    "pip install sentence-transformers==2.2.2"
   ]
  },
  {
   "cell_type": "code",
   "execution_count": 3,
   "id": "6d2ce720",
   "metadata": {},
   "outputs": [
    {
     "name": "stderr",
     "output_type": "stream",
     "text": [
      "<timed exec>:54: DtypeWarning: Columns (0) have mixed types.Specify dtype option on import or set low_memory=False.\n",
      "C:\\Users\\Garlapati.Varun\\anaconda3\\lib\\site-packages\\sklearn\\base.py:329: UserWarning: Trying to unpickle estimator LabelEncoder from version 0.24.1 when using version 1.0.2. This might lead to breaking code or invalid results. Use at your own risk. For more info please refer to:\n",
      "https://scikit-learn.org/stable/modules/model_persistence.html#security-maintainability-limitations\n",
      "  warnings.warn(\n",
      "C:\\Users\\Garlapati.Varun\\anaconda3\\lib\\site-packages\\keras\\initializers\\initializers_v2.py:120: UserWarning: The initializer GlorotNormal is unseeded and being called multiple times, which will return identical values  each time (even if the initializer is unseeded). Please update your code to provide a seed to the initializer, or avoid using the same initalizer instance more than once.\n",
      "  warnings.warn(\n"
     ]
    },
    {
     "name": "stdout",
     "output_type": "stream",
     "text": [
      "1/1 [==============================] - 10s 10s/step\n",
      "Intent is : plant protection\n",
      "Model Downloaded\n",
      "Question Embedding Completed\n",
      "Responses Embedding Completed\n",
      "Wall time: 15min 37s\n"
     ]
    }
   ],
   "source": [
    "%%time\n",
    "import tkinter\n",
    "from tkinter import *\n",
    "import tensorflow as tf\n",
    "import numpy as np\n",
    "import pandas as pd\n",
    "import scipy\n",
    "from scipy import spatial\n",
    "from sentence_transformers import SentenceTransformer\n",
    "import ktrain\n",
    "import os\n",
    "import tensorflow as tf\n",
    "\n",
    "\n",
    "def chatbot_response(msg):\n",
    "    msg=msg.lower()\n",
    "    greetings = ['hi','hey', 'hello', 'heyy', 'hi', 'hey', 'good evening', 'good morning', 'good afternoon', 'good', 'fine', 'okay', 'great', 'could be better', 'not so great', 'very well thanks', 'fine and you', \"i'm doing well\", 'pleasure to meet you', 'hi whatsup']\n",
    "    goodbyes = ['thank you', 'thank you', 'yes bye', 'bye', 'thanks and bye', 'ok thanks bye', 'goodbye', 'see ya later', 'alright thanks bye', \"that's all bye\", 'nice talking with you', 'i’ve gotta go', 'i’m off', 'good night', 'see ya', 'see ya later', 'catch ya later', 'adios', 'talk to you later', 'bye bye', 'all right then', 'thanks', 'thank you', 'thx', 'thx bye', 'thnks', 'thank u for ur help', 'many thanks', 'you saved my day', 'thanks a bunch', \"i can't thank you enough\", \"you're great\", 'thanks a ton', 'grateful for your help', 'i owe you one', 'thanks a million', 'really appreciate your help', 'no', 'no goodbye']\n",
    "    if msg in greetings:\n",
    "        suitable_answer=\"Hi! I\\'m a Farmers chatbot!.My name is Kisan.Please ask me for help whenever you feel like it! I\\'m always online.\"\n",
    "    elif msg in goodbyes:\n",
    "        suitable_answer=\"Hope I was able to help you today! Take care, bye!\"\n",
    "    else:\n",
    "        df=pd.read_csv(\"C:\\\\Users\\\\Garlapati.Varun\\\\Desktop\\\\Manas-MentalHealth_Chatbot-main\\\\Manas-MentalHealth_Chatbot-main\\\\Cleaned_Chatbot_data.csv\")\n",
    "        p = ktrain.load_predictor('farmer_model')\n",
    "        zero_data=df.dropna(subset=['length_question'])\n",
    "        zero_data=zero_data.dropna(subset=['clean_text'])\n",
    "        questions = [str(msg)]\n",
    "        intent=p.predict(questions[0])\n",
    "        print(\"Intent is :\",intent)\n",
    "        intent_df=zero_data[zero_data[\"clean_type\"]==intent]\n",
    "        responses = intent_df[\"KCCAns\"].to_list()\n",
    "        response_contexts = intent_df[\"QueryText\"].to_list()\n",
    "        model = SentenceTransformer('all-MiniLM-L6-v2')\n",
    "        print(\"Model Downloaded\")\n",
    "        question_embeddings = model.encode(questions)\n",
    "        print(\"Question Embedding Completed\")\n",
    "        response_embeddings = model.encode(response_contexts)\n",
    "        print(\"Responses Embedding Completed\")\n",
    "        distances=[]\n",
    "        for i in response_embeddings:\n",
    "            distances.append(1-scipy.spatial.distance.cosine(question_embeddings,i))\n",
    "        suitable_answer=responses[distances.index(max(distances))]\n",
    "    return suitable_answer\n",
    "\n",
    "def send():\n",
    "    msg = EntryBox.get(\"1.0\",'end-1c').strip()\n",
    "    EntryBox.delete(\"0.0\",END)\n",
    "\n",
    "    if msg != '':\n",
    "        ChatLog.config(state=NORMAL)\n",
    "        ChatLog.insert(END, \"You: \" + msg + '\\n\\n')\n",
    "        ChatLog.config(foreground=\"#442265\", font=(\"Verdana\", 12 ))\n",
    "\n",
    "        res = chatbot_response(msg)\n",
    "        ChatLog.insert(END, \"Bot: \" + res + '\\n\\n')\n",
    "\n",
    "        ChatLog.config(state=DISABLED)\n",
    "        ChatLog.yview(END)\n",
    "\n",
    "\n",
    "base = Tk()\n",
    "base.title(\"Farmers Chatbot\")\n",
    "base.geometry(\"400x500\")\n",
    "base.resizable(width=FALSE, height=FALSE)\n",
    "\n",
    "#Create Chat window\n",
    "ChatLog = Text(base, bd=0, bg=\"white\", height=\"8\", width=\"50\", font=\"Arial\",)\n",
    "\n",
    "ChatLog.config(state=DISABLED)\n",
    "\n",
    "#Bind scrollbar to Chat window\n",
    "scrollbar = Scrollbar(base, command=ChatLog.yview, cursor=\"heart\")\n",
    "ChatLog['yscrollcommand'] = scrollbar.set\n",
    "\n",
    "#Create Button to send message\n",
    "SendButton = Button(base, font=(\"Verdana\",12,'bold'), text=\"Send\", width=\"12\", height=3,\n",
    "                    bd=0, bg=\"#32de97\", activebackground=\"#3c9d9b\",fg='#ffffff',\n",
    "                    command= send )\n",
    "\n",
    "#Create the box to enter message\n",
    "EntryBox = Text(base, bd=0, bg=\"white\",width=\"29\", height=\"3\", font=\"Arial\")\n",
    "#EntryBox.bind(\"<Return>\", send)\n",
    "\n",
    "\n",
    "#Place all components on the screen\n",
    "scrollbar.place(x=376,y=6, height=386)\n",
    "ChatLog.place(x=6,y=6, height=386, width=370)\n",
    "EntryBox.place(x=128, y=401, height=90, width=265)\n",
    "SendButton.place(x=6, y=401, height=90)\n",
    "\n",
    "base.mainloop()"
   ]
  },
  {
   "cell_type": "code",
   "execution_count": null,
   "id": "65f1848c",
   "metadata": {},
   "outputs": [],
   "source": []
  },
  {
   "cell_type": "code",
   "execution_count": null,
   "id": "e21c5649",
   "metadata": {},
   "outputs": [],
   "source": []
  }
 ],
 "metadata": {
  "kernelspec": {
   "display_name": "Python 3 (ipykernel)",
   "language": "python",
   "name": "python3"
  },
  "language_info": {
   "codemirror_mode": {
    "name": "ipython",
    "version": 3
   },
   "file_extension": ".py",
   "mimetype": "text/x-python",
   "name": "python",
   "nbconvert_exporter": "python",
   "pygments_lexer": "ipython3",
   "version": "3.9.7"
  }
 },
 "nbformat": 4,
 "nbformat_minor": 5
}
